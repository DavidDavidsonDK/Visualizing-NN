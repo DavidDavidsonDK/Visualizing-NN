{
 "cells": [
  {
   "cell_type": "code",
   "execution_count": null,
   "metadata": {},
   "outputs": [],
   "source": [
    "import pickle\n",
    "import numpy as np\n",
    "import os\n",
    "import tensorflow as tf\n",
    "from tensorflow.contrib.tensorboard.plugins import projector\n",
    "import numpy as np\n",
    "\n",
    "os.chdir('..')\n",
    "PATH = os.getcwd()\n",
    "vocab_path = PATH + '/embeddings/vocab.dms'\n",
    "embd_path = PATH + '/embeddings/embeddings.npy'\n",
    "LOG_DIR = PATH + '/tensorboard/log'\n",
    "metadata = os.path.join(LOG_DIR, 'metadata.tsv')\n",
    "\n",
    "with open(vocab_path,'rb') as f_voc:\n",
    "    voc  = pickle.load(f_voc)\n",
    "    f_voc.close()\n",
    "\n",
    "E = np.load(embd_path, mmap_mode='r')\n",
    "\n",
    "embeddings = tf.Variable(E, name='words')\n",
    "#def save_metadata(file):\n",
    "with open(metadata, 'wt') as metadata_file:\n",
    "    metadata_file.write('{}\\n'.format('Index\\tWord'))\n",
    "    for i,word in zip(np.arange(N),voc):\n",
    "        c = str(i) +'\\t'+ str(word)\n",
    "        metadata_file.write('{}\\n'.format(c))\n",
    "\n",
    "with tf.Session() as sess:\n",
    "    saver = tf.train.Saver([embeddings])\n",
    "\n",
    "    sess.run(embeddings.initializer)\n",
    "    saver.save(sess, os.path.join(LOG_DIR, 'word_embeddings.ckpt'))\n",
    "\n",
    "    config = projector.ProjectorConfig()\n",
    "    # One can add multiple embeddings.\n",
    "    embedding = config.embeddings.add()\n",
    "    embedding.tensor_name = embeddings.name\n",
    "    # Link this tensor to its metadata file (e.g. labels).\n",
    "    embedding.metadata_path = metadata\n",
    "    # Saves a config file that TensorBoard will read during startup.\n",
    "    projector.visualize_embeddings(tf.summary.FileWriter(LOG_DIR), config)\n",
    "    \n",
    "# # for calling the tensorboard you should be in that drive and call the entire path\n",
    "# #tensorboard --logdir=../tensorboard/log --port=6006\n"
   ]
  }
 ],
 "metadata": {
  "kernelspec": {
   "display_name": "Python 3",
   "language": "python",
   "name": "python3"
  },
  "language_info": {
   "codemirror_mode": {
    "name": "ipython",
    "version": 3
   },
   "file_extension": ".py",
   "mimetype": "text/x-python",
   "name": "python",
   "nbconvert_exporter": "python",
   "pygments_lexer": "ipython3",
   "version": "3.6.1"
  }
 },
 "nbformat": 4,
 "nbformat_minor": 2
}
